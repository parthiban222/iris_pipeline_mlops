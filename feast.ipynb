{
 "cells": [
  {
   "cell_type": "code",
   "execution_count": 6,
   "id": "f52aa424-0ed5-43a5-b2f5-1a28f1d8e28e",
   "metadata": {
    "tags": []
   },
   "outputs": [
    {
     "name": "stdout",
     "output_type": "stream",
     "text": [
      "Installed kernelspec mlops in /home/jupyter/.local/share/jupyter/kernels/mlops\n"
     ]
    }
   ],
   "source": [
    "%%bash\n",
    "# Install Jupyter kernel in the virtual environment\n",
    "source /home/jupyter/california_housing/.env/bin/activate \n",
    "pip install ipykernel -q\n",
    "\n",
    "# Install custom kernel\n",
    "python -m ipykernel install --user --name=mlops --display-name=\"Python (practice)\""
   ]
  },
  {
   "cell_type": "code",
   "execution_count": 7,
   "id": "43382fd6-70c8-4fe5-9739-bd9801571c61",
   "metadata": {
    "tags": []
   },
   "outputs": [
    {
     "name": "stdout",
     "output_type": "stream",
     "text": [
      "env: PYTHONWARNINGS=ignore\n",
      "env: JUPYTER_PLATFORM_DIRS=1\n"
     ]
    }
   ],
   "source": [
    "import os\n",
    "import warnings\n",
    "\n",
    "# Setup environment path for consistent package management\n",
    "os.environ['PATH'] = os.path.abspath('.env/bin') + ':' + os.environ.get('PATH', '')\n",
    "\n",
    "# Suppress warnings for cleaner output\n",
    "warnings.filterwarnings(\"ignore\")\n",
    "%env PYTHONWARNINGS=ignore\n",
    "%env JUPYTER_PLATFORM_DIRS=1"
   ]
  },
  {
   "cell_type": "code",
   "execution_count": 8,
   "id": "b5949eae-46d9-4517-99dc-b702e75c69a4",
   "metadata": {
    "tags": []
   },
   "outputs": [
    {
     "name": "stdout",
     "output_type": "stream",
     "text": [
      "Original dataset shape: (150, 5)\n",
      "Dataset with timestamps:\n"
     ]
    },
    {
     "data": {
      "text/html": [
       "<div>\n",
       "<style scoped>\n",
       "    .dataframe tbody tr th:only-of-type {\n",
       "        vertical-align: middle;\n",
       "    }\n",
       "\n",
       "    .dataframe tbody tr th {\n",
       "        vertical-align: top;\n",
       "    }\n",
       "\n",
       "    .dataframe thead th {\n",
       "        text-align: right;\n",
       "    }\n",
       "</style>\n",
       "<table border=\"1\" class=\"dataframe\">\n",
       "  <thead>\n",
       "    <tr style=\"text-align: right;\">\n",
       "      <th></th>\n",
       "      <th>sepal_length</th>\n",
       "      <th>sepal_width</th>\n",
       "      <th>petal_length</th>\n",
       "      <th>petal_width</th>\n",
       "      <th>species</th>\n",
       "      <th>event_timestamp</th>\n",
       "    </tr>\n",
       "  </thead>\n",
       "  <tbody>\n",
       "    <tr>\n",
       "      <th>0</th>\n",
       "      <td>5.1</td>\n",
       "      <td>3.5</td>\n",
       "      <td>1.4</td>\n",
       "      <td>0.2</td>\n",
       "      <td>setosa</td>\n",
       "      <td>2025-07-19 13:08:33.323899</td>\n",
       "    </tr>\n",
       "    <tr>\n",
       "      <th>1</th>\n",
       "      <td>4.9</td>\n",
       "      <td>3.0</td>\n",
       "      <td>1.4</td>\n",
       "      <td>0.2</td>\n",
       "      <td>setosa</td>\n",
       "      <td>2025-07-19 13:13:33.323899</td>\n",
       "    </tr>\n",
       "    <tr>\n",
       "      <th>2</th>\n",
       "      <td>4.7</td>\n",
       "      <td>3.2</td>\n",
       "      <td>1.3</td>\n",
       "      <td>0.2</td>\n",
       "      <td>setosa</td>\n",
       "      <td>2025-07-19 13:18:33.323899</td>\n",
       "    </tr>\n",
       "    <tr>\n",
       "      <th>3</th>\n",
       "      <td>4.6</td>\n",
       "      <td>3.1</td>\n",
       "      <td>1.5</td>\n",
       "      <td>0.2</td>\n",
       "      <td>setosa</td>\n",
       "      <td>2025-07-19 13:23:33.323899</td>\n",
       "    </tr>\n",
       "    <tr>\n",
       "      <th>4</th>\n",
       "      <td>5.0</td>\n",
       "      <td>3.6</td>\n",
       "      <td>1.4</td>\n",
       "      <td>0.2</td>\n",
       "      <td>setosa</td>\n",
       "      <td>2025-07-19 13:28:33.323899</td>\n",
       "    </tr>\n",
       "    <tr>\n",
       "      <th>5</th>\n",
       "      <td>5.4</td>\n",
       "      <td>3.9</td>\n",
       "      <td>1.7</td>\n",
       "      <td>0.4</td>\n",
       "      <td>setosa</td>\n",
       "      <td>2025-07-19 13:33:33.323899</td>\n",
       "    </tr>\n",
       "    <tr>\n",
       "      <th>6</th>\n",
       "      <td>4.6</td>\n",
       "      <td>3.4</td>\n",
       "      <td>1.4</td>\n",
       "      <td>0.3</td>\n",
       "      <td>setosa</td>\n",
       "      <td>2025-07-19 13:38:33.323899</td>\n",
       "    </tr>\n",
       "    <tr>\n",
       "      <th>7</th>\n",
       "      <td>5.0</td>\n",
       "      <td>3.4</td>\n",
       "      <td>1.5</td>\n",
       "      <td>0.2</td>\n",
       "      <td>setosa</td>\n",
       "      <td>2025-07-19 13:43:33.323899</td>\n",
       "    </tr>\n",
       "    <tr>\n",
       "      <th>8</th>\n",
       "      <td>4.4</td>\n",
       "      <td>2.9</td>\n",
       "      <td>1.4</td>\n",
       "      <td>0.2</td>\n",
       "      <td>setosa</td>\n",
       "      <td>2025-07-19 13:48:33.323899</td>\n",
       "    </tr>\n",
       "    <tr>\n",
       "      <th>9</th>\n",
       "      <td>4.9</td>\n",
       "      <td>3.1</td>\n",
       "      <td>1.5</td>\n",
       "      <td>0.1</td>\n",
       "      <td>setosa</td>\n",
       "      <td>2025-07-19 13:53:33.323899</td>\n",
       "    </tr>\n",
       "  </tbody>\n",
       "</table>\n",
       "</div>"
      ],
      "text/plain": [
       "   sepal_length  sepal_width  petal_length  petal_width species  \\\n",
       "0           5.1          3.5           1.4          0.2  setosa   \n",
       "1           4.9          3.0           1.4          0.2  setosa   \n",
       "2           4.7          3.2           1.3          0.2  setosa   \n",
       "3           4.6          3.1           1.5          0.2  setosa   \n",
       "4           5.0          3.6           1.4          0.2  setosa   \n",
       "5           5.4          3.9           1.7          0.4  setosa   \n",
       "6           4.6          3.4           1.4          0.3  setosa   \n",
       "7           5.0          3.4           1.5          0.2  setosa   \n",
       "8           4.4          2.9           1.4          0.2  setosa   \n",
       "9           4.9          3.1           1.5          0.1  setosa   \n",
       "\n",
       "             event_timestamp  \n",
       "0 2025-07-19 13:08:33.323899  \n",
       "1 2025-07-19 13:13:33.323899  \n",
       "2 2025-07-19 13:18:33.323899  \n",
       "3 2025-07-19 13:23:33.323899  \n",
       "4 2025-07-19 13:28:33.323899  \n",
       "5 2025-07-19 13:33:33.323899  \n",
       "6 2025-07-19 13:38:33.323899  \n",
       "7 2025-07-19 13:43:33.323899  \n",
       "8 2025-07-19 13:48:33.323899  \n",
       "9 2025-07-19 13:53:33.323899  "
      ]
     },
     "execution_count": 8,
     "metadata": {},
     "output_type": "execute_result"
    }
   ],
   "source": [
    "# Import required libraries\n",
    "import pandas as pd\n",
    "from datetime import datetime, timedelta\n",
    "\n",
    "# Load the Iris dataset\n",
    "data = pd.read_csv('data/iris.csv')\n",
    "print(f\"Original dataset shape: {data.shape}\")\n",
    "\n",
    "# Add timestamps for point-in-time feature serving\n",
    "# Create timestamps spaced 5 minutes apart for each record\n",
    "start_date = datetime.now()\n",
    "timestamps = [start_date + timedelta(minutes=i*5) for i in range(len(data))]\n",
    "data['event_timestamp'] = timestamps\n",
    "\n",
    "print(\"Dataset with timestamps:\")\n",
    "data.head(10)"
   ]
  },
  {
   "cell_type": "code",
   "execution_count": 9,
   "id": "41d302bc-b105-4da5-9a3a-103c9cec15a9",
   "metadata": {
    "tags": []
   },
   "outputs": [],
   "source": [
    "data[\"entity_id\"]=data.index"
   ]
  },
  {
   "cell_type": "code",
   "execution_count": 10,
   "id": "a9e09ceb-2449-4e29-9f88-400d4fc2df77",
   "metadata": {
    "tags": []
   },
   "outputs": [
    {
     "name": "stdout",
     "output_type": "stream",
     "text": [
      "<class 'pandas.core.frame.DataFrame'>\n",
      "RangeIndex: 150 entries, 0 to 149\n",
      "Data columns (total 7 columns):\n",
      " #   Column           Non-Null Count  Dtype         \n",
      "---  ------           --------------  -----         \n",
      " 0   sepal_length     150 non-null    float64       \n",
      " 1   sepal_width      150 non-null    float64       \n",
      " 2   petal_length     150 non-null    float64       \n",
      " 3   petal_width      150 non-null    float64       \n",
      " 4   species          150 non-null    object        \n",
      " 5   event_timestamp  150 non-null    datetime64[ns]\n",
      " 6   entity_id        150 non-null    int64         \n",
      "dtypes: datetime64[ns](1), float64(4), int64(1), object(1)\n",
      "memory usage: 8.3+ KB\n"
     ]
    }
   ],
   "source": [
    "data.info()"
   ]
  },
  {
   "cell_type": "code",
   "execution_count": 12,
   "id": "90529f8c-3d5f-4292-aa58-54bb04bdf8a5",
   "metadata": {
    "tags": []
   },
   "outputs": [
    {
     "data": {
      "text/plain": [
       "(150, 7)"
      ]
     },
     "execution_count": 12,
     "metadata": {},
     "output_type": "execute_result"
    }
   ],
   "source": [
    "data[0:150].shape"
   ]
  },
  {
   "cell_type": "code",
   "execution_count": 13,
   "id": "fa07c9d0-407b-4bd5-9980-31b32f174e5c",
   "metadata": {
    "tags": []
   },
   "outputs": [
    {
     "name": "stdout",
     "output_type": "stream",
     "text": [
      "Entity dataframe created with 75 records\n",
      "Entity dataframe preview:\n"
     ]
    },
    {
     "data": {
      "text/html": [
       "<div>\n",
       "<style scoped>\n",
       "    .dataframe tbody tr th:only-of-type {\n",
       "        vertical-align: middle;\n",
       "    }\n",
       "\n",
       "    .dataframe tbody tr th {\n",
       "        vertical-align: top;\n",
       "    }\n",
       "\n",
       "    .dataframe thead th {\n",
       "        text-align: right;\n",
       "    }\n",
       "</style>\n",
       "<table border=\"1\" class=\"dataframe\">\n",
       "  <thead>\n",
       "    <tr style=\"text-align: right;\">\n",
       "      <th></th>\n",
       "      <th>entity_id</th>\n",
       "      <th>event_timestamp</th>\n",
       "    </tr>\n",
       "  </thead>\n",
       "  <tbody>\n",
       "    <tr>\n",
       "      <th>0</th>\n",
       "      <td>0</td>\n",
       "      <td>2025-07-19 13:08:33.323899</td>\n",
       "    </tr>\n",
       "    <tr>\n",
       "      <th>1</th>\n",
       "      <td>1</td>\n",
       "      <td>2025-07-19 13:13:33.323899</td>\n",
       "    </tr>\n",
       "    <tr>\n",
       "      <th>2</th>\n",
       "      <td>2</td>\n",
       "      <td>2025-07-19 13:18:33.323899</td>\n",
       "    </tr>\n",
       "    <tr>\n",
       "      <th>3</th>\n",
       "      <td>3</td>\n",
       "      <td>2025-07-19 13:23:33.323899</td>\n",
       "    </tr>\n",
       "    <tr>\n",
       "      <th>4</th>\n",
       "      <td>4</td>\n",
       "      <td>2025-07-19 13:28:33.323899</td>\n",
       "    </tr>\n",
       "  </tbody>\n",
       "</table>\n",
       "</div>"
      ],
      "text/plain": [
       "   entity_id            event_timestamp\n",
       "0          0 2025-07-19 13:08:33.323899\n",
       "1          1 2025-07-19 13:13:33.323899\n",
       "2          2 2025-07-19 13:18:33.323899\n",
       "3          3 2025-07-19 13:23:33.323899\n",
       "4          4 2025-07-19 13:28:33.323899"
      ]
     },
     "execution_count": 13,
     "metadata": {},
     "output_type": "execute_result"
    }
   ],
   "source": [
    "filtered_data = data[0:75]\n",
    "\n",
    "# Create entity dataframe with species and timestamps\n",
    "# This will be used for getting historical features\n",
    "result = filtered_data[['entity_id', 'event_timestamp']]\n",
    "\n",
    "# Save entity dataframe for later use in model training\n",
    "result.to_csv(\"data/entity.csv\", index=False)\n",
    "print(f\"Entity dataframe created with {len(result)} records\")\n",
    "print(\"Entity dataframe preview:\")\n",
    "result.head()"
   ]
  },
  {
   "cell_type": "code",
   "execution_count": 14,
   "id": "1e2fdcf3-2bf5-4fd0-87db-b9ba7234eb97",
   "metadata": {
    "tags": []
   },
   "outputs": [
    {
     "name": "stdout",
     "output_type": "stream",
     "text": [
      "<class 'pandas.core.frame.DataFrame'>\n",
      "RangeIndex: 150 entries, 0 to 149\n",
      "Data columns (total 7 columns):\n",
      " #   Column           Non-Null Count  Dtype         \n",
      "---  ------           --------------  -----         \n",
      " 0   sepal_length     150 non-null    float64       \n",
      " 1   sepal_width      150 non-null    float64       \n",
      " 2   petal_length     150 non-null    float64       \n",
      " 3   petal_width      150 non-null    float64       \n",
      " 4   species          150 non-null    object        \n",
      " 5   event_timestamp  150 non-null    datetime64[ns]\n",
      " 6   entity_id        150 non-null    int64         \n",
      "dtypes: datetime64[ns](1), float64(4), int64(1), object(1)\n",
      "memory usage: 8.3+ KB\n"
     ]
    }
   ],
   "source": [
    "data.info()"
   ]
  },
  {
   "cell_type": "code",
   "execution_count": 16,
   "id": "f408e203-39fa-499a-bee5-052f066ebb20",
   "metadata": {
    "tags": []
   },
   "outputs": [
    {
     "name": "stderr",
     "output_type": "stream",
     "text": [
      "100%|██████████| 1/1 [00:00<00:00, 6909.89it/s]"
     ]
    },
    {
     "name": "stdout",
     "output_type": "stream",
     "text": [
      "Data successfully uploaded to BigQuery table: mlops_new.iris\n",
      "Table contains 150 records\n"
     ]
    },
    {
     "name": "stderr",
     "output_type": "stream",
     "text": [
      "\n"
     ]
    }
   ],
   "source": [
    "import pandas_gbq\n",
    "\n",
    "table_schema = [\n",
    "    {'name': 'sepal_length', 'type': 'FLOAT'},\n",
    "    {'name': 'sepal_width', 'type': 'FLOAT'}, \n",
    "    {'name': 'petal_length', 'type': 'FLOAT'},\n",
    "    {'name': 'petal_width', 'type': 'FLOAT'},\n",
    "    {'name': 'species', 'type': 'STRING'},\n",
    "    {'name': 'event_timestamp', 'type': 'TIMESTAMP'},\n",
    "    {'name': 'entity_id', 'type': 'INTEGER'},\n",
    "]\n",
    "\n",
    "# Upload dataframe to BigQuery\n",
    "# if_exists=\"replace\" will overwrite existing table\n",
    "pandas_gbq.to_gbq(\n",
    "    data, \n",
    "    \"mlops_new.iris\", \n",
    "    project_id=\"ageless-aura-461314-a1\", \n",
    "    if_exists=\"replace\",\n",
    "    table_schema=table_schema\n",
    ")\n",
    "\n",
    "print(f\"Data successfully uploaded to BigQuery table: {'mlops_new.iris'}\")\n",
    "print(f\"Table contains {len(data)} records\")"
   ]
  },
  {
   "cell_type": "code",
   "execution_count": 17,
   "id": "4d2bce0d-f1b4-44ca-b8e3-6f6eec259330",
   "metadata": {
    "tags": []
   },
   "outputs": [
    {
     "name": "stdout",
     "output_type": "stream",
     "text": [
      "\n",
      "Creating a new Feast repository in /home/jupyter/iris_new/Feast.\n",
      "\n"
     ]
    }
   ],
   "source": [
    "%%bash\n",
    "# Initialize the Feast repository with GCP template\n",
    "feast init -m Feast -t gcp"
   ]
  },
  {
   "cell_type": "code",
   "execution_count": 18,
   "id": "fb1cf819-3d96-4264-88e1-40c13e6cb4b5",
   "metadata": {
    "tags": []
   },
   "outputs": [
    {
     "name": "stdout",
     "output_type": "stream",
     "text": [
      "/home/jupyter/iris_new/Feast/feature_repo\n"
     ]
    }
   ],
   "source": [
    "%cd Feast/feature_repo"
   ]
  },
  {
   "cell_type": "code",
   "execution_count": 19,
   "id": "a517408e-ceb1-4a9c-8d19-4f9ef2a97553",
   "metadata": {
    "tags": []
   },
   "outputs": [
    {
     "name": "stdout",
     "output_type": "stream",
     "text": [
      "Feature store configuration created successfully!\n"
     ]
    }
   ],
   "source": [
    "# Create feature store configuration\n",
    "# This configures Feast to use BigQuery as offline store and Datastore as online store\n",
    "feature_store = f\"\"\"project: Feast\n",
    "registry: gs://mlops_ga1_bucket/feast/registry.db\n",
    "provider: gcp\n",
    "entity_key_serialization_version: 2\n",
    "\n",
    "offline_store:\n",
    "  type: bigquery\n",
    "  dataset: {'iris'}\n",
    "\n",
    "online_store:\n",
    "  type: datastore\n",
    "  project_id: {'ageless-aura-461314-a1'}\n",
    "  namespace: {'iris_online'}\n",
    "\"\"\"\n",
    "\n",
    "# Write configuration to feature_store.yaml\n",
    "with open('feature_store.yaml', \"w\") as feature_store_file:\n",
    "    feature_store_file.write(feature_store)\n",
    "    \n",
    "print(\"Feature store configuration created successfully!\")"
   ]
  },
  {
   "cell_type": "code",
   "execution_count": 21,
   "id": "66f700fb-f5cf-4203-ad70-e4528dcd864b",
   "metadata": {
    "tags": []
   },
   "outputs": [
    {
     "name": "stdout",
     "output_type": "stream",
     "text": [
      "Feature repository definitions created successfully!\n"
     ]
    }
   ],
   "source": [
    "# Creates definitions of entity, feature view, and feature service\n",
    "flower_features = f\"\"\"\n",
    "from datetime import timedelta\n",
    "from feast import BigQuerySource, FeatureView, FeatureService, Entity, ValueType\n",
    "\n",
    "# Define flower species as entity\n",
    "flower_entity = Entity(\n",
    "    name=\"entity_id\",\n",
    "    description=\"A \",\n",
    "    value_type=ValueType.INT64\n",
    ")\n",
    "\n",
    "# Define feature view for flower measurements\n",
    "flower_features = FeatureView(\n",
    "    name=\"flower_features\",\n",
    "    entities=[flower_entity],\n",
    "    ttl=timedelta(weeks=52),  # Time-to-live for features\n",
    "    source=BigQuerySource(\n",
    "        table=f\"PRACTICE.housing\",\n",
    "        timestamp_field=\"event_timestamp\"\n",
    "    ),\n",
    "    tags={{\"assignment\":\"week_3\"}}\n",
    ")\n",
    "\n",
    "# Create feature service for one model version\n",
    "# FeatureService groups features for specific use cases\n",
    "model_v1 = FeatureService(\n",
    "    name=\"feast_model_v1\",\n",
    "    features=[flower_features]\n",
    ")\n",
    "\"\"\"\n",
    "\n",
    "# Write feature definitions to feature_repo.py\n",
    "with open('feature_repo.py', \"w\") as feature_repo_file:\n",
    "    feature_repo_file.write(flower_features)\n",
    "    \n",
    "print(\"Feature repository definitions created successfully!\")"
   ]
  },
  {
   "cell_type": "code",
   "execution_count": 22,
   "id": "ca216b14-d55a-4f31-85dc-ca893e629df0",
   "metadata": {
    "tags": []
   },
   "outputs": [
    {
     "name": "stdout",
     "output_type": "stream",
     "text": [
      "/opt/conda/lib/python3.10/site-packages/feast/repo_config.py:268: DeprecationWarning: The serialization version 2 and below will be deprecated in the next release. Specifying `entity_key_serialization_version` to 3 is recommended.\n",
      "  warnings.warn(\n",
      "No project found in the repository. Using project name Feast defined in feature_store.yaml\n",
      "Applying changes for project Feast\n",
      "Deploying infrastructure for \u001b[1m\u001b[32mflower_features\u001b[0m\n",
      "Removing infrastructure for \u001b[1m\u001b[31mhousing_features\u001b[0m\n"
     ]
    }
   ],
   "source": [
    "!feast apply"
   ]
  },
  {
   "cell_type": "code",
   "execution_count": 23,
   "id": "e0be6b43-e562-4b84-813d-e86f19499483",
   "metadata": {
    "tags": []
   },
   "outputs": [
    {
     "name": "stdout",
     "output_type": "stream",
     "text": [
      "/opt/conda/lib/python3.10/site-packages/feast/repo_config.py:268: DeprecationWarning: The serialization version 2 and below will be deprecated in the next release. Specifying `entity_key_serialization_version` to 3 is recommended.\n",
      "  warnings.warn(\n",
      "Materializing \u001b[1m\u001b[32m1\u001b[0m feature views from \u001b[1m\u001b[32m2025-06-20 00:00:00+00:00\u001b[0m to \u001b[1m\u001b[32m2025-07-20 00:00:00+00:00\u001b[0m into the \u001b[1m\u001b[32mdatastore\u001b[0m online store.\n",
      "\n",
      "\u001b[1m\u001b[32mflower_features\u001b[0m:\n",
      "100%|████████████████████████████████████████████████████████████| 228/228 [00:00<00:00, 352.37it/s]\n"
     ]
    }
   ],
   "source": [
    "!feast materialize 2025-06-20 2025-07-20"
   ]
  },
  {
   "cell_type": "code",
   "execution_count": null,
   "id": "855fa9d6-1724-4437-b417-237e9d6dc5e5",
   "metadata": {},
   "outputs": [],
   "source": []
  }
 ],
 "metadata": {
  "environment": {
   "kernel": "conda-base-py",
   "name": "workbench-notebooks.m129",
   "type": "gcloud",
   "uri": "us-docker.pkg.dev/deeplearning-platform-release/gcr.io/workbench-notebooks:m129"
  },
  "kernelspec": {
   "display_name": "Python 3 (ipykernel)",
   "language": "python",
   "name": "conda-base-py"
  },
  "language_info": {
   "codemirror_mode": {
    "name": "ipython",
    "version": 3
   },
   "file_extension": ".py",
   "mimetype": "text/x-python",
   "name": "python",
   "nbconvert_exporter": "python",
   "pygments_lexer": "ipython3",
   "version": "3.10.16"
  }
 },
 "nbformat": 4,
 "nbformat_minor": 5
}
